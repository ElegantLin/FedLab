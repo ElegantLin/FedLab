{
 "cells": [
  {
   "attachments": {},
   "cell_type": "markdown",
   "metadata": {},
   "source": [
    "# Deploy comunication compression scheme in FedLab\n",
    "\n",
    "This tutorial provides comprehensive examples about implementing a communication efficiency scheme in FedLab. \n",
    "\n",
    "We take the baseline gradient compression algorithms as examples (top-k for gradient sparsification and QSGD for gradient quantization)."
   ]
  },
  {
   "attachments": {},
   "cell_type": "markdown",
   "metadata": {},
   "source": [
    "## Compress example"
   ]
  },
  {
   "cell_type": "code",
   "execution_count": 1,
   "metadata": {},
   "outputs": [],
   "source": [
    "import sys\n",
    "sys.path.append(\"../\")\n",
    "\n",
    "from fedlab.contrib.compressor.quantization import QSGDCompressor\n",
    "from fedlab.contrib.compressor.topk import TopkCompressor\n",
    "import torch\n",
    "\n",
    "tpk_compressor = TopkCompressor(compress_ratio=0.05) # top 5% gradient\n",
    "qsgd_compressor = QSGDCompressor(n_bit=8)\n"
   ]
  },
  {
   "cell_type": "code",
   "execution_count": 2,
   "metadata": {},
   "outputs": [
    {
     "name": "stdout",
     "output_type": "stream",
     "text": [
      "To be compressed tensor: tensor([ 1.7904,  1.1976,  0.5574, -1.4732, -0.1749, -1.5302,  0.7105,  0.8731,\n",
      "        -0.2417, -1.7519, -0.8683,  1.6638, -0.8791,  0.3522,  1.2140, -0.7861,\n",
      "        -0.6471,  0.1058,  0.9712, -0.0356,  0.1277,  0.6797,  0.7012, -0.0314,\n",
      "         0.2698,  0.4957,  1.5576, -0.4206, -1.5119, -0.2276, -0.1169,  0.0241,\n",
      "         1.1393,  1.1940,  0.1736, -0.8024,  0.5382, -0.0825,  0.7265, -0.0350,\n",
      "        -0.9015,  0.9518,  0.1257, -1.3379,  1.2557, -0.1562,  0.2343, -0.2276,\n",
      "         0.1734, -0.7848,  0.4302, -1.5303, -1.2221,  0.8777,  0.7470,  0.8461,\n",
      "        -0.8365,  0.1586, -0.0298, -0.9709, -0.2771, -0.4565,  0.5078,  1.1161,\n",
      "        -2.9212,  0.7157,  1.0265, -0.3000, -1.1337, -0.7994,  1.4019,  0.5700,\n",
      "         1.0981,  1.7451, -0.6322, -0.5967,  1.3718, -1.2059, -0.6930,  0.3289,\n",
      "        -0.2357, -0.2602,  0.4087,  2.4009,  0.4228, -0.1829,  1.1983,  1.9031,\n",
      "         1.2283,  1.1762, -0.7700,  0.7999, -0.7868, -2.4056,  0.3990,  0.3036,\n",
      "         0.7046,  0.0360, -1.2865, -0.6763])\n",
      "Compressed results top-k values: tensor([-2.9212, -2.4056,  2.4009,  1.9031,  1.7904])\n",
      "Compressed results top-k indices: tensor([64, 93, 83, 87,  0])\n",
      "Decompressed results: tensor([ 1.7904,  0.0000,  0.0000,  0.0000,  0.0000,  0.0000,  0.0000,  0.0000,\n",
      "         0.0000,  0.0000,  0.0000,  0.0000,  0.0000,  0.0000,  0.0000,  0.0000,\n",
      "         0.0000,  0.0000,  0.0000,  0.0000,  0.0000,  0.0000,  0.0000,  0.0000,\n",
      "         0.0000,  0.0000,  0.0000,  0.0000,  0.0000,  0.0000,  0.0000,  0.0000,\n",
      "         0.0000,  0.0000,  0.0000,  0.0000,  0.0000,  0.0000,  0.0000,  0.0000,\n",
      "         0.0000,  0.0000,  0.0000,  0.0000,  0.0000,  0.0000,  0.0000,  0.0000,\n",
      "         0.0000,  0.0000,  0.0000,  0.0000,  0.0000,  0.0000,  0.0000,  0.0000,\n",
      "         0.0000,  0.0000,  0.0000,  0.0000,  0.0000,  0.0000,  0.0000,  0.0000,\n",
      "        -2.9212,  0.0000,  0.0000,  0.0000,  0.0000,  0.0000,  0.0000,  0.0000,\n",
      "         0.0000,  0.0000,  0.0000,  0.0000,  0.0000,  0.0000,  0.0000,  0.0000,\n",
      "         0.0000,  0.0000,  0.0000,  2.4009,  0.0000,  0.0000,  0.0000,  1.9031,\n",
      "         0.0000,  0.0000,  0.0000,  0.0000,  0.0000, -2.4056,  0.0000,  0.0000,\n",
      "         0.0000,  0.0000,  0.0000,  0.0000])\n"
     ]
    }
   ],
   "source": [
    "# top-k\n",
    "tensor = torch.randn(size=(100,))\n",
    "shape = tensor.shape\n",
    "print(\"To be compressed tensor:\", tensor)\n",
    "\n",
    "# compress\n",
    "values, indices = tpk_compressor.compress(tensor)\n",
    "print(\"Compressed results top-k values:\",values)\n",
    "print(\"Compressed results top-k indices:\", indices)\n",
    "\n",
    "# decompress\n",
    "decompressed = tpk_compressor.decompress(values, indices, shape)\n",
    "print(\"Decompressed results:\", decompressed)"
   ]
  },
  {
   "cell_type": "code",
   "execution_count": 3,
   "metadata": {},
   "outputs": [
    {
     "name": "stdout",
     "output_type": "stream",
     "text": [
      "To be compressed tensor: tensor([-1.8558,  0.1828,  1.1786, -0.1234,  0.5163, -1.2538,  0.3737, -0.1130,\n",
      "        -0.9324, -0.1437, -0.4652, -0.0538, -0.7610, -1.2260,  0.7752, -0.2309,\n",
      "         0.0810, -0.2054, -1.2495,  0.0275, -0.0130, -1.4626,  0.0565,  0.1517,\n",
      "         0.9598, -2.0691, -1.0476,  0.5621, -0.1763, -0.6827, -1.9742, -0.4692,\n",
      "         0.3654, -0.5896,  1.0840,  1.1551,  0.0322,  0.0544, -0.6744, -0.1711,\n",
      "        -0.7766,  0.2856, -1.4287,  0.6842,  0.1862,  1.5727, -0.2767,  0.3260,\n",
      "         2.3558, -0.9370, -0.6398, -1.4415,  0.0954, -0.9119, -0.0301, -0.8488,\n",
      "        -0.5083, -1.0651, -0.4212,  0.4079, -0.1578, -0.0625, -0.2592, -1.0756,\n",
      "         1.7337,  0.0145, -0.0273, -0.0423,  0.1000,  2.4316, -0.6455,  0.6802,\n",
      "        -1.1766, -1.6501,  0.0963, -0.6059,  1.0251,  1.1533, -0.6849,  0.2401,\n",
      "         0.2348,  0.8670,  2.0629,  0.4358,  1.4603, -0.2489, -0.4500,  1.0784,\n",
      "         0.6003,  0.1710, -0.7972,  0.1425, -0.3223,  0.7629,  1.6252,  0.0471,\n",
      "        -0.3190,  0.3042, -0.2391, -0.8617])\n",
      "Compressed results QSGD norm: tensor([2.4316])\n",
      "Compressed results QSGD signs: tensor([False,  True,  True, False,  True, False,  True, False, False, False,\n",
      "        False, False, False, False,  True, False,  True, False, False,  True,\n",
      "        False, False,  True,  True,  True, False, False,  True, False, False,\n",
      "        False, False,  True, False,  True,  True,  True,  True, False, False,\n",
      "        False,  True, False,  True,  True,  True, False,  True,  True, False,\n",
      "        False, False,  True, False, False, False, False, False, False,  True,\n",
      "        False, False, False, False,  True,  True, False, False,  True,  True,\n",
      "        False,  True, False, False,  True, False,  True,  True, False,  True,\n",
      "         True,  True,  True,  True,  True, False, False,  True,  True,  True,\n",
      "        False,  True, False,  True,  True,  True, False,  True, False, False])\n",
      "Compressed results QSGD values: tensor([195,  19, 124,  13,  54, 132,  40,  12,  98,  15,  49,   6,  80, 129,\n",
      "         82,  25,   8,  22, 131,   3,   1, 154,   6,  16, 101, 218, 110,  59,\n",
      "         19,  72, 208,  50,  39,  62, 114, 122,   3,   5,  71,  18,  81,  30,\n",
      "        150,  72,  19, 166,  29,  34, 248,  99,  68, 152,  10,  96,   3,  89,\n",
      "         54, 112,  44,  43,  17,   6,  27, 114, 182,   1,   3,   5,  11, 256,\n",
      "         68,  71, 124, 174,  10,  64, 108, 122,  72,  26,  25,  91, 217,  45,\n",
      "        153,  26,  48, 113,  63,  18,  84,  15,  34,  80, 172,   5,  33,  32,\n",
      "         25,  91], dtype=torch.int32)\n"
     ]
    }
   ],
   "source": [
    "# qsgd\n",
    "tensor = torch.randn(size=(100,))\n",
    "shape = tensor.shape\n",
    "print(\"To be compressed tensor:\", tensor)\n",
    "\n",
    "# compress\n",
    "norm, signs, values = qsgd_compressor.compress(tensor)\n",
    "print(\"Compressed results QSGD norm:\", norm)\n",
    "print(\"Compressed results QSGD signs:\", signs)\n",
    "print(\"Compressed results QSGD values:\", values)\n"
   ]
  },
  {
   "cell_type": "code",
   "execution_count": 4,
   "metadata": {},
   "outputs": [
    {
     "name": "stdout",
     "output_type": "stream",
     "text": [
      "Decompressed results: tensor([-1.8522,  0.1805,  1.1778, -0.1235,  0.5129, -1.2538,  0.3799, -0.1140,\n",
      "        -0.9308, -0.1425, -0.4654, -0.0570, -0.7599, -1.2253,  0.7789, -0.2375,\n",
      "         0.0760, -0.2090, -1.2443,  0.0285, -0.0095, -1.4628,  0.0570,  0.1520,\n",
      "         0.9593, -2.0706, -1.0448,  0.5604, -0.1805, -0.6839, -1.9757, -0.4749,\n",
      "         0.3704, -0.5889,  1.0828,  1.1588,  0.0285,  0.0475, -0.6744, -0.1710,\n",
      "        -0.7694,  0.2850, -1.4248,  0.6839,  0.1805,  1.5767, -0.2755,  0.3229,\n",
      "         2.3556, -0.9403, -0.6459, -1.4438,  0.0950, -0.9118, -0.0285, -0.8454,\n",
      "        -0.5129, -1.0638, -0.4179,  0.4084, -0.1615, -0.0570, -0.2565, -1.0828,\n",
      "         1.7287,  0.0095, -0.0285, -0.0475,  0.1045,  2.4316, -0.6459,  0.6744,\n",
      "        -1.1778, -1.6527,  0.0950, -0.6079,  1.0258,  1.1588, -0.6839,  0.2470,\n",
      "         0.2375,  0.8644,  2.0612,  0.4274,  1.4533, -0.2470, -0.4559,  1.0733,\n",
      "         0.5984,  0.1710, -0.7979,  0.1425, -0.3229,  0.7599,  1.6337,  0.0475,\n",
      "        -0.3134,  0.3039, -0.2375, -0.8644])\n"
     ]
    }
   ],
   "source": [
    "# decompress\n",
    "decompressed = qsgd_compressor.decompress([norm, signs, values])\n",
    "print(\"Decompressed results:\", decompressed)"
   ]
  },
  {
   "attachments": {},
   "cell_type": "markdown",
   "metadata": {},
   "source": [
    "## Use compressor in federated learning\n",
    "\n",
    "For example on the client side, we could compress the tensors are to compressed and upload the compressed results to server. And server could decompress the tensors follows the compression agreements.\n",
    "\n",
    "In jupyter notebook, we take the standalone scenario as example."
   ]
  },
  {
   "cell_type": "code",
   "execution_count": 5,
   "metadata": {},
   "outputs": [],
   "source": [
    "from fedlab.contrib.algorithm.basic_client import SGDSerialClientTrainer, SGDClientTrainer\n",
    "from fedlab.contrib.algorithm.basic_server import SyncServerHandler\n",
    "\n",
    "class CompressSerialClientTrainer(SGDSerialClientTrainer):\n",
    "    def setup_compressor(self, compressor):\n",
    "        #self.compressor = TopkCompressor(compress_ratio=k)\n",
    "        self.compressor = compressor\n",
    "\n",
    "    @property\n",
    "    def uplink_package(self):\n",
    "        package = super().uplink_package\n",
    "        new_package = []\n",
    "        for content in package:\n",
    "            pack = [self.compressor.compress(content[0])]\n",
    "            new_package.append(pack)\n",
    "        return new_package\n",
    "\n",
    "class CompressServerHandeler(SyncServerHandler):\n",
    "    def setup_compressor(self, compressor, type):\n",
    "        #self.compressor = TopkCompressor(compress_ratio=k)\n",
    "        self.compressor = compressor\n",
    "        self.type = type\n",
    "\n",
    "    def load(self, payload) -> bool:\n",
    "        if self.type == \"topk\":\n",
    "            values, indices = payload[0]\n",
    "            decompressed_payload = self.compressor.decompress(values, indices, self.model_parameters.shape)\n",
    "\n",
    "        if self.type == \"qsgd\":\n",
    "            n, s, l = payload[0]\n",
    "            decompressed_payload = self.compressor.decompress((n,s,l))\n",
    "        \n",
    "        return super().load([decompressed_payload])"
   ]
  },
  {
   "cell_type": "code",
   "execution_count": 6,
   "metadata": {},
   "outputs": [],
   "source": [
    "# main, this part we follow the pipeline in pipeline_tutorial.ipynb\n",
    "# But replace the hander and trainer by the above defined for communication compression\n",
    "\n",
    "# configuration\n",
    "from opcode import cmp_op\n",
    "from munch import Munch\n",
    "from fedlab.models.mlp import MLP\n",
    "\n",
    "model = MLP(784, 10)\n",
    "args = Munch\n",
    "\n",
    "args.total_client = 100\n",
    "args.alpha = 0.5\n",
    "args.seed = 42\n",
    "args.preprocess = False\n",
    "args.cuda = False\n",
    "args.cmp_op = \"qsgd\" # \"topk, qsgd\"\n",
    "\n",
    "args.k = 0.1 # topk\n",
    "args.bit = 8 # qsgd\n",
    "\n",
    "if args.cmp_op == \"topk\":\n",
    "    compressor = TopkCompressor(args.k)\n",
    "\n",
    "if args.cmp_op == \"qsgd\":\n",
    "    compressor = QSGDCompressor(args.bit)\n",
    "\n",
    "from torchvision import transforms\n",
    "from fedlab.contrib.dataset.partitioned_mnist import PartitionedMNIST\n",
    "\n",
    "fed_mnist = PartitionedMNIST(root=\"../datasets/mnist/\",\n",
    "                             path=\"../datasets/mnist/fedmnist/\",\n",
    "                             num_clients=args.total_client,\n",
    "                             partition=\"noniid-labeldir\",\n",
    "                             dir_alpha=args.alpha,\n",
    "                             seed=args.seed,\n",
    "                             preprocess=args.preprocess,\n",
    "                             download=True,\n",
    "                             verbose=True,\n",
    "                             transform=transforms.Compose([\n",
    "                                 transforms.ToPILImage(),\n",
    "                                 transforms.ToTensor()\n",
    "                             ]))\n",
    "\n",
    "dataset = fed_mnist.get_dataset(0)  # get the 0-th client's dataset\n",
    "dataloader = fed_mnist.get_dataloader(\n",
    "    0,\n",
    "    batch_size=128)  # get the 0-th client's dataset loader with batch size 128\n"
   ]
  },
  {
   "cell_type": "code",
   "execution_count": 7,
   "metadata": {},
   "outputs": [],
   "source": [
    "# client\n",
    "from fedlab.contrib.algorithm.basic_client import SGDSerialClientTrainer, SGDClientTrainer\n",
    "\n",
    "# local train configuration\n",
    "args.epochs = 5\n",
    "args.batch_size = 128\n",
    "args.lr = 0.1\n",
    "\n",
    "trainer = CompressSerialClientTrainer(model, args.total_client,\n",
    "                                 cuda=args.cuda)  # serial trainer\n",
    "# trainer = SGDClientTrainer(model, cuda=True) # single trainer\n",
    "\n",
    "trainer.setup_dataset(fed_mnist)\n",
    "trainer.setup_optim(args.epochs, args.batch_size, args.lr)\n",
    "trainer.setup_compressor(compressor)\n",
    "\n",
    "# server\n",
    "from fedlab.contrib.algorithm.basic_server import SyncServerHandler\n",
    "\n",
    "# global configuration\n",
    "args.com_round = 10\n",
    "args.sample_ratio = 0.1\n",
    "\n",
    "handler = CompressServerHandeler(model=model,\n",
    "                            global_round=args.com_round,\n",
    "                            sample_ratio=args.sample_ratio,\n",
    "                            cuda=args.cuda)\n",
    "handler.setup_compressor(compressor, args.cmp_op)"
   ]
  },
  {
   "cell_type": "code",
   "execution_count": 8,
   "metadata": {},
   "outputs": [
    {
     "name": "stdout",
     "output_type": "stream",
     "text": [
      "[6, 25, 40, 57, 61, 76, 84, 87, 89, 92]\n",
      "loss 21.9241, test accuracy 0.2840\n",
      "[2, 12, 17, 21, 39, 47, 49, 53, 65, 94]\n"
     ]
    }
   ],
   "source": [
    "from fedlab.utils.functional import evaluate\n",
    "from fedlab.core.standalone import StandalonePipeline\n",
    "\n",
    "from torch import nn\n",
    "from torch.utils.data import DataLoader\n",
    "import torchvision\n",
    "\n",
    "class EvalPipeline(StandalonePipeline):\n",
    "    def __init__(self, handler, trainer, test_loader):\n",
    "        super().__init__(handler, trainer)\n",
    "        self.test_loader = test_loader\n",
    "\n",
    "    def main(self):\n",
    "        while self.handler.if_stop is False:\n",
    "            # server side\n",
    "            sampled_clients = self.handler.sample_clients()\n",
    "            broadcast = self.handler.downlink_package\n",
    "\n",
    "            # client side\n",
    "            self.trainer.local_process(broadcast, sampled_clients)\n",
    "            uploads = self.trainer.uplink_package\n",
    "\n",
    "            # server side\n",
    "            for pack in uploads:\n",
    "                self.handler.load(pack)\n",
    "\n",
    "            loss, acc = evaluate(self.handler.model, nn.CrossEntropyLoss(),\n",
    "                                 self.test_loader)\n",
    "            print(\"loss {:.4f}, test accuracy {:.4f}\".format(loss, acc))\n",
    "\n",
    "\n",
    "test_data = torchvision.datasets.MNIST(root=\"../datasets/mnist/\",\n",
    "                                       train=False,\n",
    "                                       transform=transforms.ToTensor())\n",
    "test_loader = DataLoader(test_data, batch_size=1024)\n",
    "\n",
    "standalone_eval = EvalPipeline(handler=handler,\n",
    "                               trainer=trainer,\n",
    "                               test_loader=test_loader)\n",
    "standalone_eval.main()"
   ]
  }
 ],
 "metadata": {
  "kernelspec": {
   "display_name": "Python 3.10.0 ('fedlab')",
   "language": "python",
   "name": "python3"
  },
  "language_info": {
   "codemirror_mode": {
    "name": "ipython",
    "version": 3
   },
   "file_extension": ".py",
   "mimetype": "text/x-python",
   "name": "python",
   "nbconvert_exporter": "python",
   "pygments_lexer": "ipython3",
   "version": "3.10.11"
  },
  "orig_nbformat": 4,
  "vscode": {
   "interpreter": {
    "hash": "019ae50596e3d4df627f3288be8543f4b17347150bdb9d2aa2e7c637014aee00"
   }
  }
 },
 "nbformat": 4,
 "nbformat_minor": 2
}
