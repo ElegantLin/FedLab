{
 "cells": [
  {
   "cell_type": "markdown",
   "metadata": {},
   "source": [
    "# Deploy comunication compression scheme in FedLab\n",
    "\n",
    "This tutorial provides comprehensive examples about implementing a communication efficiency scheme in FedLab. \n",
    "\n",
    "We take the baseline gradient compression algorithms as examples (top-k for gradient sparsification and QSGD for gradient quantization)."
   ]
  },
  {
   "cell_type": "markdown",
   "metadata": {},
   "source": [
    "## Compress example"
   ]
  },
  {
   "cell_type": "code",
   "execution_count": 1,
   "metadata": {},
   "outputs": [],
   "source": [
    "from fedlab.contrib.compressor.quantization import QSGDCompressor\n",
    "from fedlab.contrib.compressor.topk import TopkCompressor\n",
    "import torch\n",
    "\n",
    "tpk_compressor = TopkCompressor(compress_ratio=0.05) # top 5% gradient \n",
    "qsgd_compressor = QSGDCompressor(n_bit=8) "
   ]
  },
  {
   "cell_type": "code",
   "execution_count": 2,
   "metadata": {},
   "outputs": [
    {
     "name": "stdout",
     "output_type": "stream",
     "text": [
      "To be compressed tensor: tensor([-0.2551,  0.1723, -0.3045,  0.1142,  1.4212, -0.0035, -1.4607, -0.8500,\n",
      "         2.1810,  0.5937,  0.2021,  0.2862,  1.3127,  0.1277, -1.0769,  0.2209,\n",
      "         1.1807,  0.5525,  0.1321,  0.0979,  0.3020,  0.1013,  3.4029, -0.2621,\n",
      "         0.0406,  0.6202, -0.3686, -1.9036,  0.9475,  1.3832,  0.4061, -0.4844,\n",
      "        -1.1010, -0.8294, -0.5312,  0.4947,  0.0112,  0.9657,  1.2832,  1.8749,\n",
      "         0.3791,  0.3394,  2.7730,  0.5408,  1.9294, -0.6163,  1.0113, -1.9415,\n",
      "         0.1310, -2.1150, -0.2764, -0.3573, -1.2982,  1.3719,  1.1704,  1.5341,\n",
      "         0.8125,  0.1082, -0.0353,  1.2760,  1.4667,  0.3195,  0.2799, -1.2045,\n",
      "         0.6300, -1.2554, -0.2688, -0.0793, -1.0269, -1.2192, -0.0565,  1.5932,\n",
      "         0.4082, -0.0509, -0.2076, -1.4379, -0.3355, -0.0201, -0.0423, -0.6073,\n",
      "        -0.3837,  0.0933, -1.0693, -0.5408, -0.3400,  0.9970, -0.5036,  1.5442,\n",
      "         1.2167,  0.6450, -1.3357, -0.5427, -0.1329,  1.1694,  0.3605,  2.4106,\n",
      "        -1.8797,  0.8517, -0.2610,  1.6862])\n",
      "Compressed results top-k values: tensor([ 2.1810,  3.4029,  2.7730,  2.4106, -2.1150])\n",
      "Compressed results top-k indices: tensor([ 8, 22, 42, 95, 49])\n",
      "Decompressed results: tensor([ 0.0000,  0.0000,  0.0000,  0.0000,  0.0000,  0.0000,  0.0000,  0.0000,\n",
      "         2.1810,  0.0000,  0.0000,  0.0000,  0.0000,  0.0000,  0.0000,  0.0000,\n",
      "         0.0000,  0.0000,  0.0000,  0.0000,  0.0000,  0.0000,  3.4029,  0.0000,\n",
      "         0.0000,  0.0000,  0.0000,  0.0000,  0.0000,  0.0000,  0.0000,  0.0000,\n",
      "         0.0000,  0.0000,  0.0000,  0.0000,  0.0000,  0.0000,  0.0000,  0.0000,\n",
      "         0.0000,  0.0000,  2.7730,  0.0000,  0.0000,  0.0000,  0.0000,  0.0000,\n",
      "         0.0000, -2.1150,  0.0000,  0.0000,  0.0000,  0.0000,  0.0000,  0.0000,\n",
      "         0.0000,  0.0000,  0.0000,  0.0000,  0.0000,  0.0000,  0.0000,  0.0000,\n",
      "         0.0000,  0.0000,  0.0000,  0.0000,  0.0000,  0.0000,  0.0000,  0.0000,\n",
      "         0.0000,  0.0000,  0.0000,  0.0000,  0.0000,  0.0000,  0.0000,  0.0000,\n",
      "         0.0000,  0.0000,  0.0000,  0.0000,  0.0000,  0.0000,  0.0000,  0.0000,\n",
      "         0.0000,  0.0000,  0.0000,  0.0000,  0.0000,  0.0000,  0.0000,  2.4106,\n",
      "         0.0000,  0.0000,  0.0000,  0.0000])\n"
     ]
    }
   ],
   "source": [
    "# top-k\n",
    "tensor = torch.randn(size=(100,))\n",
    "shape = tensor.shape\n",
    "print(\"To be compressed tensor:\", tensor)\n",
    "\n",
    "# compress\n",
    "values, indices = tpk_compressor.compress(tensor)\n",
    "print(\"Compressed results top-k values:\",values)\n",
    "print(\"Compressed results top-k indices:\", indices)\n",
    "\n",
    "# decompress\n",
    "decompressed = tpk_compressor.decompress(values, indices, shape)\n",
    "print(\"Decompressed results:\", decompressed)"
   ]
  },
  {
   "cell_type": "code",
   "execution_count": 3,
   "metadata": {},
   "outputs": [
    {
     "name": "stdout",
     "output_type": "stream",
     "text": [
      "To be compressed tensor: tensor([ 0.8138, -0.4996, -0.1319, -0.2596, -0.1408,  2.0757,  0.2944,  1.2920,\n",
      "        -1.4043,  0.1464, -0.5552,  0.1523, -0.7994,  0.8580,  0.4179, -0.0481,\n",
      "         0.7103,  0.3520, -0.5581,  0.4171, -1.1006,  0.9965, -0.4987,  0.7205,\n",
      "        -0.8855, -0.3032,  0.1235,  0.0968,  0.2313, -1.7149, -1.0833,  0.3717,\n",
      "        -1.2076, -0.4502, -1.8539,  0.9081,  1.7861,  0.6766,  0.2267, -0.4099,\n",
      "         1.8331, -1.4917,  0.2764,  0.2297, -0.3605, -0.0055,  0.6125,  1.4960,\n",
      "         0.5952,  2.1638, -2.5469, -0.8668,  0.3518,  0.6117, -1.7751, -0.7952,\n",
      "         2.3184, -0.4247,  0.9324, -0.7573, -0.5979,  1.0592,  0.5357, -0.7331,\n",
      "         0.9007, -0.4086, -0.2537, -4.1050, -0.1990,  0.5406, -0.2515, -0.5306,\n",
      "        -0.7901, -0.8744,  1.3315, -0.8028, -0.3142,  0.5809,  1.2843, -1.4680,\n",
      "         0.2522,  0.6385, -1.1771,  0.5757, -0.8276, -0.5795,  1.8992, -1.0554,\n",
      "         1.5926, -0.9995, -0.9659,  0.4166,  0.1454,  1.2823, -0.4326,  1.0771,\n",
      "        -0.5909,  0.1168, -0.5657,  0.6759])\n",
      "Compressed results QSGD norm: tensor([4.1050])\n",
      "Compressed results QSGD signs: tensor([ True, False, False, False, False,  True,  True,  True, False,  True,\n",
      "        False,  True, False,  True,  True, False,  True,  True, False,  True,\n",
      "        False,  True, False,  True, False, False,  True,  True,  True, False,\n",
      "        False,  True, False, False, False,  True,  True,  True,  True, False,\n",
      "         True, False,  True,  True, False, False,  True,  True,  True,  True,\n",
      "        False, False,  True,  True, False, False,  True, False,  True, False,\n",
      "        False,  True,  True, False,  True, False, False, False, False,  True,\n",
      "        False, False, False, False,  True, False, False,  True,  True, False,\n",
      "         True,  True, False,  True, False, False,  True, False,  True, False,\n",
      "        False,  True,  True,  True, False,  True, False,  True, False,  True])\n",
      "Compressed results QSGD values: tensor([ 50,  31,   8,  17,   9, 129,  18,  80,  88,   9,  35,  10,  50,  53,\n",
      "         26,   3,  45,  21,  35,  26,  69,  62,  31,  45,  55,  19,   8,   6,\n",
      "         14, 107,  67,  23,  76,  28, 115,  56, 111,  43,  14,  26, 114,  93,\n",
      "         17,  15,  22,   1,  38,  94,  37, 135, 159,  54,  22,  38, 111,  49,\n",
      "        145,  26,  58,  47,  38,  66,  34,  46,  56,  26,  16, 256,  13,  34,\n",
      "         16,  33,  50,  54,  83,  50,  20,  36,  80,  91,  15,  39,  73,  36,\n",
      "         52,  36, 118,  66,  99,  62,  61,  26,   9,  80,  27,  67,  37,   7,\n",
      "         35,  42], dtype=torch.int32)\n"
     ]
    }
   ],
   "source": [
    "# qsgd\n",
    "tensor = torch.randn(size=(100,))\n",
    "shape = tensor.shape\n",
    "print(\"To be compressed tensor:\", tensor)\n",
    "\n",
    "# compress\n",
    "norm, signs, values = qsgd_compressor.compress(tensor)\n",
    "print(\"Compressed results QSGD norm:\", norm)\n",
    "print(\"Compressed results QSGD signs:\", signs)\n",
    "print(\"Compressed results QSGD values:\", values)\n"
   ]
  },
  {
   "cell_type": "code",
   "execution_count": 4,
   "metadata": {},
   "outputs": [
    {
     "name": "stdout",
     "output_type": "stream",
     "text": [
      "Decompressed results: tensor([ 0.8018, -0.4971, -0.1283, -0.2726, -0.1443,  2.0686,  0.2886,  1.2828,\n",
      "        -1.4111,  0.1443, -0.5612,  0.1604, -0.8018,  0.8499,  0.4169, -0.0481,\n",
      "         0.7216,  0.3367, -0.5612,  0.4169, -1.1064,  0.9942, -0.4971,  0.7216,\n",
      "        -0.8819, -0.3047,  0.1283,  0.0962,  0.2245, -1.7158, -1.0744,  0.3688,\n",
      "        -1.2187, -0.4490, -1.8441,  0.8980,  1.7799,  0.6895,  0.2245, -0.4169,\n",
      "         1.8280, -1.4913,  0.2726,  0.2405, -0.3528, -0.0160,  0.6093,  1.5073,\n",
      "         0.5933,  2.1648, -2.5496, -0.8659,  0.3528,  0.6093, -1.7799, -0.7857,\n",
      "         2.3251, -0.4169,  0.9300, -0.7537, -0.6093,  1.0583,  0.5452, -0.7376,\n",
      "         0.8980, -0.4169, -0.2566, -4.1050, -0.2085,  0.5452, -0.2566, -0.5292,\n",
      "        -0.8018, -0.8659,  1.3309, -0.8018, -0.3207,  0.5773,  1.2828, -1.4592,\n",
      "         0.2405,  0.6254, -1.1706,  0.5773, -0.8338, -0.5773,  1.8922, -1.0583,\n",
      "         1.5875, -0.9942, -0.9782,  0.4169,  0.1443,  1.2828, -0.4330,  1.0744,\n",
      "        -0.5933,  0.1122, -0.5612,  0.6735])\n"
     ]
    }
   ],
   "source": [
    "# decompress\n",
    "decompressed = qsgd_compressor.decompress([norm, signs, values])\n",
    "print(\"Decompressed results:\", decompressed)"
   ]
  },
  {
   "cell_type": "markdown",
   "metadata": {},
   "source": [
    "## Use compressor in federated learning\n",
    "\n",
    "For example on the client side, we could compress the tensors are to compressed and upload the compressed results to server. And server could decompress the tensors follows the compression agreements.\n",
    "\n",
    "In jupyter notebook, we take the standalone scenario as example."
   ]
  },
  {
   "cell_type": "code",
   "execution_count": 5,
   "metadata": {},
   "outputs": [],
   "source": [
    "from fedlab.contrib.algorithm.basic_client import SGDSerialClientTrainer, SGDClientTrainer\n",
    "from fedlab.contrib.algorithm.basic_server import SyncServerHandler\n",
    "\n",
    "class CompressSerialClientTrainer(SGDSerialClientTrainer):\n",
    "    def setup_compressor(self, compressor):\n",
    "        #self.compressor = TopkCompressor(compress_ratio=k)\n",
    "        self.compressor = compressor\n",
    "\n",
    "    @property\n",
    "    def uplink_package(self):\n",
    "        package = super().uplink_package\n",
    "        new_package = []\n",
    "        for content in package:\n",
    "            pack = [self.compressor.compress(content[0])]\n",
    "            new_package.append(pack)\n",
    "        return new_package\n",
    "\n",
    "class CompressServerHandeler(SyncServerHandler):\n",
    "    def setup_compressor(self, compressor, type):\n",
    "        #self.compressor = TopkCompressor(compress_ratio=k)\n",
    "        self.compressor = compressor\n",
    "        self.type = type\n",
    "\n",
    "    def load(self, payload) -> bool:\n",
    "        if self.type == \"topk\":\n",
    "            values, indices = payload[0]\n",
    "            decompressed_payload = self.compressor.decompress(values, indices, self.model_parameters.shape)\n",
    "\n",
    "        if self.type == \"qsgd\":\n",
    "            n, s, l = payload[0]\n",
    "            decompressed_payload = self.compressor.decompress((n,s,l))\n",
    "        \n",
    "        return super().load([decompressed_payload])"
   ]
  },
  {
   "cell_type": "code",
   "execution_count": 6,
   "metadata": {},
   "outputs": [],
   "source": [
    "# main, this part we follow the pipeline in pipeline_tutorial.ipynb\n",
    "# But replace the hander and trainer by the above defined for communication compression\n",
    "\n",
    "# configuration\n",
    "from opcode import cmp_op\n",
    "from munch import Munch\n",
    "from fedlab.models.mlp import MLP\n",
    "\n",
    "model = MLP(784, 10)\n",
    "args = Munch\n",
    "\n",
    "args.total_client = 100\n",
    "args.alpha = 0.5\n",
    "args.seed = 42\n",
    "args.preprocess = False\n",
    "args.cuda = True\n",
    "args.cmp_op = \"qsgd\" # \"topk, qsgd\"\n",
    "\n",
    "args.k = 0.1 # topk\n",
    "args.bit = 8 # qsgd\n",
    "\n",
    "if args.cmp_op == \"topk\":\n",
    "    compressor = TopkCompressor(args.k)\n",
    "\n",
    "if args.cmp_op == \"qsgd\":\n",
    "    compressor = QSGDCompressor(args.bit)\n",
    "\n",
    "from torchvision import transforms\n",
    "from fedlab.contrib.dataset.partitioned_mnist import PartitionedMNIST\n",
    "\n",
    "fed_mnist = PartitionedMNIST(root=\"./datasets/mnist/\",\n",
    "                             path=\"./datasets/mnist/fedmnist/\",\n",
    "                             num_clients=args.total_client,\n",
    "                             partition=\"noniid-labeldir\",\n",
    "                             dir_alpha=args.alpha,\n",
    "                             seed=args.seed,\n",
    "                             preprocess=args.preprocess,\n",
    "                             download=True,\n",
    "                             verbose=True,\n",
    "                             transform=transforms.Compose([\n",
    "                                 transforms.ToPILImage(),\n",
    "                                 transforms.ToTensor()\n",
    "                             ]))\n",
    "\n",
    "dataset = fed_mnist.get_dataset(0)  # get the 0-th client's dataset\n",
    "dataloader = fed_mnist.get_dataloader(\n",
    "    0,\n",
    "    batch_size=128)  # get the 0-th client's dataset loader with batch size 128\n"
   ]
  },
  {
   "cell_type": "code",
   "execution_count": 7,
   "metadata": {},
   "outputs": [],
   "source": [
    "# client\n",
    "from fedlab.contrib.algorithm.basic_client import SGDSerialClientTrainer, SGDClientTrainer\n",
    "\n",
    "# local train configuration\n",
    "args.epochs = 5\n",
    "args.batch_size = 128\n",
    "args.lr = 0.1\n",
    "\n",
    "trainer = CompressSerialClientTrainer(model, args.total_client,\n",
    "                                 cuda=args.cuda)  # serial trainer\n",
    "# trainer = SGDClientTrainer(model, cuda=True) # single trainer\n",
    "\n",
    "trainer.setup_dataset(fed_mnist)\n",
    "trainer.setup_optim(args.epochs, args.batch_size, args.lr)\n",
    "trainer.setup_compressor(compressor)\n",
    "\n",
    "# server\n",
    "from fedlab.contrib.algorithm.basic_server import SyncServerHandler\n",
    "\n",
    "# global configuration\n",
    "args.com_round = 10\n",
    "args.sample_ratio = 0.1\n",
    "\n",
    "handler = CompressServerHandeler(model=model,\n",
    "                            global_round=args.com_round,\n",
    "                            sample_ratio=args.sample_ratio,\n",
    "                            cuda=args.cuda)\n",
    "handler.setup_compressor(compressor, args.cmp_op)"
   ]
  },
  {
   "cell_type": "code",
   "execution_count": 8,
   "metadata": {},
   "outputs": [
    {
     "name": "stdout",
     "output_type": "stream",
     "text": [
      "loss 21.9152, test accuracy 0.2445\n",
      "loss 17.1248, test accuracy 0.5201\n",
      "loss 14.0367, test accuracy 0.5140\n",
      "loss 9.1731, test accuracy 0.7470\n",
      "loss 7.4824, test accuracy 0.8066\n",
      "loss 6.3856, test accuracy 0.8209\n",
      "loss 5.9895, test accuracy 0.8164\n",
      "loss 5.3765, test accuracy 0.8324\n",
      "loss 4.6479, test accuracy 0.8707\n",
      "loss 4.7858, test accuracy 0.8604\n"
     ]
    }
   ],
   "source": [
    "from fedlab.utils.functional import evaluate\n",
    "from fedlab.core.standalone import StandalonePipeline\n",
    "\n",
    "from torch import nn\n",
    "from torch.utils.data import DataLoader\n",
    "import torchvision\n",
    "\n",
    "class EvalPipeline(StandalonePipeline):\n",
    "    def __init__(self, handler, trainer, test_loader):\n",
    "        super().__init__(handler, trainer)\n",
    "        self.test_loader = test_loader\n",
    "\n",
    "    def main(self):\n",
    "        while self.handler.if_stop is False:\n",
    "            # server side\n",
    "            sampled_clients = self.handler.sample_clients()\n",
    "            broadcast = self.handler.downlink_package\n",
    "\n",
    "            # client side\n",
    "            self.trainer.local_process(broadcast, sampled_clients)\n",
    "            uploads = self.trainer.uplink_package\n",
    "\n",
    "            # server side\n",
    "            for pack in uploads:\n",
    "                self.handler.load(pack)\n",
    "\n",
    "            loss, acc = evaluate(self.handler.model, nn.CrossEntropyLoss(),\n",
    "                                 self.test_loader)\n",
    "            print(\"loss {:.4f}, test accuracy {:.4f}\".format(loss, acc))\n",
    "\n",
    "\n",
    "test_data = torchvision.datasets.MNIST(root=\"./tests/data/mnist/\",\n",
    "                                       train=False,\n",
    "                                       transform=transforms.ToTensor())\n",
    "test_loader = DataLoader(test_data, batch_size=1024)\n",
    "\n",
    "standalone_eval = EvalPipeline(handler=handler,\n",
    "                               trainer=trainer,\n",
    "                               test_loader=test_loader)\n",
    "standalone_eval.main()"
   ]
  }
 ],
 "metadata": {
  "kernelspec": {
   "display_name": "Python 3.10.0 ('fedlab')",
   "language": "python",
   "name": "python3"
  },
  "language_info": {
   "codemirror_mode": {
    "name": "ipython",
    "version": 3
   },
   "file_extension": ".py",
   "mimetype": "text/x-python",
   "name": "python",
   "nbconvert_exporter": "python",
   "pygments_lexer": "ipython3",
   "version": "3.10.0"
  },
  "orig_nbformat": 4,
  "vscode": {
   "interpreter": {
    "hash": "019ae50596e3d4df627f3288be8543f4b17347150bdb9d2aa2e7c637014aee00"
   }
  }
 },
 "nbformat": 4,
 "nbformat_minor": 2
}
